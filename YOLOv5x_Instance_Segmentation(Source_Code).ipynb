{
  "nbformat": 4,
  "nbformat_minor": 0,
  "metadata": {
    "colab": {
      "provenance": [],
      "machine_shape": "hm",
      "gpuType": "T4",
      "include_colab_link": true
    },
    "kernelspec": {
      "name": "python3",
      "display_name": "Python 3"
    },
    "language_info": {
      "name": "python"
    },
    "accelerator": "GPU"
  },
  "cells": [
    {
      "cell_type": "markdown",
      "metadata": {
        "id": "view-in-github",
        "colab_type": "text"
      },
      "source": [
        "<a href=\"https://colab.research.google.com/github/EzdanAI/EZDAN-AI-Based-Solution-to-Solve-Visual-Pollution-/blob/main/YOLOv5x_Instance_Segmentation(Source_Code).ipynb\" target=\"_parent\"><img src=\"https://colab.research.google.com/assets/colab-badge.svg\" alt=\"Open In Colab\"/></a>"
      ]
    },
    {
      "cell_type": "code",
      "execution_count": null,
      "metadata": {
        "id": "WoYqZsg2UnP8"
      },
      "outputs": [],
      "source": [
        "# save the working directory path for later use\n",
        "\n",
        "import os\n",
        "HOME = os.getcwd()\n",
        "print(HOME)"
      ]
    },
    {
      "cell_type": "code",
      "source": [
        "# clone project repository and install dependencies\n",
        "\n",
        "!git clone https://github.com/ultralytics/yolov5.git # clone\n",
        "%cd {HOME}/yolov5\n",
        "%pip install -r requirements.txt # install\n",
        "\n",
        "import torch\n",
        "import utils\n",
        "display = utils.notebook_init()  # checks"
      ],
      "metadata": {
        "id": "hm7O64mYVNcI"
      },
      "execution_count": null,
      "outputs": []
    },
    {
      "cell_type": "code",
      "source": [
        "# download pretrained weights\n",
        "\n",
        "from utils.downloads import attempt_download\n",
        "\n",
        "p5 = ['n', 's', 'm', 'l', 'x']  # P5 models\n",
        "cls = [f'{x}-seg' for x in p5]  # segmentation models\n",
        "\n",
        "for x in cls:\n",
        "    attempt_download(f'{HOME}/yolov5/weights/yolov5{x}.pt')"
      ],
      "metadata": {
        "id": "6EwVK47HVNZq"
      },
      "execution_count": null,
      "outputs": []
    },
    {
      "cell_type": "code",
      "source": [
        "%cd {HOME}/yolov5\n",
        "\n",
        "!pip install roboflow\n",
        "\n",
        "from roboflow import Roboflow\n",
        "rf = Roboflow(api_key=\"API\")\n",
        "project = rf.workspace(\"WORKSPACE\").project(\"PROJECT\")\n",
        "dataset = project.version(\"VERSION\").download(\"yolov5\")"
      ],
      "metadata": {
        "id": "lRFFDlBiVNXV"
      },
      "execution_count": null,
      "outputs": []
    },
    {
      "cell_type": "code",
      "source": [
        "%cat {dataset.location}/data.yaml"
      ],
      "metadata": {
        "id": "u2DT0JFUVNU2"
      },
      "execution_count": null,
      "outputs": []
    },
    {
      "cell_type": "code",
      "source": [
        "%cd {HOME}/yolov5\n",
        "!python segment/train.py --img 640 --batch 16 --epochs 85 --data {dataset.location}/data.yaml --weights yolov5x-seg.pt --name custom-dataset\n"
      ],
      "metadata": {
        "id": "eoo8AIySVNSQ"
      },
      "execution_count": null,
      "outputs": []
    },
    {
      "cell_type": "code",
      "source": [
        "%cd {HOME}\n",
        "\n",
        "!yolo task=segment mode=val model={HOME}/runs/segment/train/weights/best.pt data={dataset.location}/data.yaml"
      ],
      "metadata": {
        "id": "BoOQbpr0VNPp"
      },
      "execution_count": null,
      "outputs": []
    },
    {
      "cell_type": "code",
      "source": [
        "%cd {HOME}\n",
        "!yolo task=segment mode=predict mo%cd {HOME}/yolov5\n",
        "!python segment/val.py --weights {HOME}/yolov5/runs/train-seg/custom-dataset4/weights/best.pt --data {dataset.location}/data.yaml --img 640  --name custom-datasetdel={HOME}/yolov5/runs/train-seg/custom-dataset4/weights/best.pt conf=0.25 source={dataset.location}/test/images save=true"
      ],
      "metadata": {
        "id": "PxcFQ6xbVNMx"
      },
      "execution_count": null,
      "outputs": []
    }
  ]
}