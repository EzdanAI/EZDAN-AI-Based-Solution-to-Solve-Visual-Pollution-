{
  "nbformat": 4,
  "nbformat_minor": 0,
  "metadata": {
    "colab": {
      "provenance": [],
      "machine_shape": "hm",
      "gpuType": "T4",
      "authorship_tag": "ABX9TyPptzNzOyYjAUra+cqHhR7n",
      "include_colab_link": true
    },
    "kernelspec": {
      "name": "python3",
      "display_name": "Python 3"
    },
    "language_info": {
      "name": "python"
    },
    "accelerator": "GPU"
  },
  "cells": [
    {
      "cell_type": "markdown",
      "metadata": {
        "id": "view-in-github",
        "colab_type": "text"
      },
      "source": [
        "<a href=\"https://colab.research.google.com/github/EzdanAI/EZDAN-AI-Based-Solution-to-Solve-Visual-Pollution-/blob/main/YOLOv5x_Object_Detection(Source_Code).ipynb\" target=\"_parent\"><img src=\"https://colab.research.google.com/assets/colab-badge.svg\" alt=\"Open In Colab\"/></a>"
      ]
    },
    {
      "cell_type": "code",
      "execution_count": null,
      "metadata": {
        "id": "2c1QD0x3izvi"
      },
      "outputs": [],
      "source": [
        "!git clone https://github.com/ultralytics/yolov5  # clone\n",
        "%cd yolov5\n",
        "!pip install -r requirements.txt  # install"
      ]
    },
    {
      "cell_type": "code",
      "source": [
        "!pip install roboflow\n",
        "\n",
        "from roboflow import Roboflow\n",
        "rf = Roboflow(api_key=\"YOUR_API_KEY\")\n",
        "project = rf.workspace(\"YOUR_WORKSPACE_NAME\").project(\"YOU_PROJECT_NAME\")\n",
        "dataset = project.version(\"THE_VERSION\").download(\"yolov5\")"
      ],
      "metadata": {
        "id": "QAOkjm_Ti8Jz"
      },
      "execution_count": null,
      "outputs": []
    },
    {
      "cell_type": "code",
      "source": [
        "# run this cell to begin training\n",
        "%cd /content/yolov5\n",
        "!python train.py --batch 16 --epochs 100 --data /content/yolov5/To_YOLO-1/data.yaml --weights yolov5x.pt --device 0"
      ],
      "metadata": {
        "id": "X6qb4fRxjMcq"
      },
      "execution_count": null,
      "outputs": []
    },
    {
      "cell_type": "code",
      "source": [
        "from IPython.display import Image\n",
        "display(Image(\"/content/yolov5/runs/train/exp/F1_curve.png\", width=400, height=400))\n",
        "display(Image(\"/content/yolov5/runs/train/exp/PR_curve.png\", width=400, height=400))\n",
        "display(Image(\"/content/yolov5/runs/train/exp/confusion_matrix.png\", width=500, height=500))\n",
        "display(Image(\"/content/yolov5/runs/train/exp/results.png\", width=1000, height=500))"
      ],
      "metadata": {
        "id": "76bLQidFjoi8"
      },
      "execution_count": null,
      "outputs": []
    },
    {
      "cell_type": "code",
      "source": [
        "# Run evaluation\n",
        "!python detect.py --weights runs/train/exp/weights/best.pt --conf 0.1 --source /content/yolov5/To_YOLO-1/test/images"
      ],
      "metadata": {
        "id": "g10nMx9xrIKy"
      },
      "execution_count": null,
      "outputs": []
    },
    {
      "cell_type": "code",
      "source": [
        "#display inference on ALL test images\n",
        "\n",
        "import glob\n",
        "from IPython.display import Image, display\n",
        "\n",
        "i = 0\n",
        "limit = 10000 # max images to print\n",
        "for imageName in glob.glob('/content/yolov5/runs/detect/exp/*.jpg'): #assuming JPG\n",
        "    if i < limit:\n",
        "      display(Image(filename=imageName))\n",
        "      print(\"\\n\")\n",
        "    i = i + 1"
      ],
      "metadata": {
        "id": "c8q__BJwrdA3"
      },
      "execution_count": null,
      "outputs": []
    },
    {
      "cell_type": "code",
      "source": [
        "# Validate YOLOv5s on COCO val\n",
        "!python val.py --weights runs/train/exp/weights/best.pt --data /content/yolov5/To_YOLO-1/data.yaml --img 640 --half"
      ],
      "metadata": {
        "id": "k1E3wS-rrqGE"
      },
      "execution_count": null,
      "outputs": []
    }
  ]
}