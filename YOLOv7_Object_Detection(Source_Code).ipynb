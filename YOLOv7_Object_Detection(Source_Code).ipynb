{
  "nbformat": 4,
  "nbformat_minor": 0,
  "metadata": {
    "colab": {
      "provenance": [],
      "machine_shape": "hm",
      "gpuType": "T4",
      "authorship_tag": "ABX9TyNus5r/jDYGl1c1K/lv8aQR",
      "include_colab_link": true
    },
    "kernelspec": {
      "name": "python3",
      "display_name": "Python 3"
    },
    "language_info": {
      "name": "python"
    },
    "accelerator": "GPU"
  },
  "cells": [
    {
      "cell_type": "markdown",
      "metadata": {
        "id": "view-in-github",
        "colab_type": "text"
      },
      "source": [
        "<a href=\"https://colab.research.google.com/github/EzdanAI/EZDAN-AI-Based-Solution-to-Solve-Visual-Pollution-/blob/main/YOLOv7_Object_Detection(Source_Code).ipynb\" target=\"_parent\"><img src=\"https://colab.research.google.com/assets/colab-badge.svg\" alt=\"Open In Colab\"/></a>"
      ]
    },
    {
      "cell_type": "code",
      "execution_count": null,
      "metadata": {
        "id": "89EFq3_4Y_VS"
      },
      "outputs": [],
      "source": [
        "# Download YOLOv7 repository and install requirements\n",
        "!git clone https://github.com/WongKinYiu/yolov7\n",
        "%cd yolov7\n",
        "!pip install -r requirements.txt"
      ]
    },
    {
      "cell_type": "code",
      "source": [
        "!pip install roboflow\n",
        "\n",
        "from roboflow import Roboflow\n",
        "rf = Roboflow(api_key=\"YOUR_API_KEY\")\n",
        "project = rf.workspace(\"YOUR_WORKSPACE_NAME\").project(\"YOU_PROJECT_NAME\")\n",
        "dataset = project.version(\"THE_VERSION\").download(\"yolov7\")"
      ],
      "metadata": {
        "id": "yfRnpKwLZIIb"
      },
      "execution_count": null,
      "outputs": []
    },
    {
      "cell_type": "code",
      "source": [
        "# download COCO starting checkpoint\n",
        "%cd /content/yolov7\n",
        "!wget https://github.com/WongKinYiu/yolov7/releases/download/v0.1/yolov7_training.pt"
      ],
      "metadata": {
        "id": "uaXV0Yp5ZMFR"
      },
      "execution_count": null,
      "outputs": []
    },
    {
      "cell_type": "code",
      "source": [
        "# run this cell to begin training\n",
        "%cd /content/yolov7\n",
        "!python train.py --batch 16 --epochs 100 --data /content/yolov7/To_YOLO-1/data.yaml --weights 'yolov7_training.pt' --device 0"
      ],
      "metadata": {
        "id": "Fec_On-jZjnY"
      },
      "execution_count": null,
      "outputs": []
    },
    {
      "cell_type": "code",
      "source": [
        "from IPython.display import Image\n",
        "display(Image(\"/content/yolov7/runs/train/exp/F1_curve.png\", width=400, height=400))\n",
        "display(Image(\"/content/yolov7/runs/train/exp/PR_curve.png\", width=400, height=400))\n",
        "display(Image(\"/content/yolov7/runs/train/exp/confusion_matrix.png\", width=500, height=500))\n",
        "display(Image(\"/content/yolov7/runs/train/exp/results.png\", width=1000, height=500))"
      ],
      "metadata": {
        "id": "WjSBN6ATZoY9"
      },
      "execution_count": null,
      "outputs": []
    },
    {
      "cell_type": "code",
      "source": [
        "# Run evaluation\n",
        "!python detect.py --weights runs/train/exp/weights/best.pt --conf 0.1 --source /content/yolov7/To_YOLO-1/test/images"
      ],
      "metadata": {
        "id": "OQL762bhuXHD"
      },
      "execution_count": null,
      "outputs": []
    },
    {
      "cell_type": "code",
      "source": [
        "#display inference on ALL test images\n",
        "\n",
        "import glob\n",
        "from IPython.display import Image, display\n",
        "\n",
        "i = 0\n",
        "limit = 10000 # max images to print\n",
        "for imageName in glob.glob('/content/yolov7/runs/detect/exp/*.jpg'): #assuming JPG\n",
        "    if i < limit:\n",
        "      display(Image(filename=imageName))\n",
        "      print(\"\\n\")\n",
        "    i = i + 1"
      ],
      "metadata": {
        "id": "L40cyQ42vL19"
      },
      "execution_count": null,
      "outputs": []
    },
    {
      "cell_type": "code",
      "source": [
        "%cd /content/yolov7\n",
        "!python test.py --weights runs/train/exp/weights/best.pt --data /content/yolov7/To_YOLO-1/data.yaml --task test"
      ],
      "metadata": {
        "id": "Vq6oRLPPvWo8"
      },
      "execution_count": null,
      "outputs": []
    }
  ]
}