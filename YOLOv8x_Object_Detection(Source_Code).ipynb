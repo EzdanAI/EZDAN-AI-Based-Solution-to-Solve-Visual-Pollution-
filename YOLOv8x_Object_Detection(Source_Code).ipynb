{
  "cells": [
    {
      "cell_type": "markdown",
      "metadata": {
        "id": "view-in-github",
        "colab_type": "text"
      },
      "source": [
        "<a href=\"https://colab.research.google.com/github/EzdanAI/EZDAN-AI-Based-Solution-to-Solve-Visual-Pollution-/blob/main/YOLOv8x_Object_Detection(Source_Code).ipynb\" target=\"_parent\"><img src=\"https://colab.research.google.com/assets/colab-badge.svg\" alt=\"Open In Colab\"/></a>"
      ]
    },
    {
      "cell_type": "code",
      "execution_count": null,
      "metadata": {
        "id": "37wJJyurnSmH"
      },
      "outputs": [],
      "source": [
        "# Pip install method (recommended)\n",
        "\n",
        "!pip install ultralytics==8.0.20\n",
        "\n",
        "from IPython import display\n",
        "display.clear_output()\n",
        "\n",
        "import ultralytics\n",
        "ultralytics.checks()"
      ]
    },
    {
      "cell_type": "code",
      "execution_count": null,
      "metadata": {
        "id": "1H_PARAVnZjd"
      },
      "outputs": [],
      "source": [
        "from ultralytics import YOLO\n",
        "\n",
        "from IPython.display import display, Image"
      ]
    },
    {
      "cell_type": "code",
      "execution_count": null,
      "metadata": {
        "id": "LJlPTPqBndYa"
      },
      "outputs": [],
      "source": [
        "!mkdir /content/datasets\n",
        "%cd /content/datasets\n",
        "!pip install roboflow\n",
        "\n",
        "\n",
        "from roboflow import Roboflow\n",
        "rf = Roboflow(api_key=\"YOUR_API_KEY\")\n",
        "project = rf.workspace(\"YOUR_WORKSPACE_NAME\").project(\"YOU_PROJECT_NAME\")\n",
        "dataset = project.version(\"THE_VERSION\").download(\"yolov8\")\n"
      ]
    },
    {
      "cell_type": "code",
      "execution_count": null,
      "metadata": {
        "id": "B7q_upWmngNL"
      },
      "outputs": [],
      "source": [
        "%cd /content/datasets\n",
        "\n",
        "!yolo task=detect mode=train model=yolov8x.pt data=/content/datasets/To_YOLO-3/data.yaml epochs=100 imgsz=640 plots=True batch=16"
      ]
    },
    {
      "cell_type": "code",
      "execution_count": null,
      "metadata": {
        "id": "jA90PcIunn86"
      },
      "outputs": [],
      "source": [
        "%cd /content/datasets\n",
        "from IPython.display import Image\n",
        "display(Image(\"/content/datasets/runs/detect/train/results.png\", width=1000, height=500))"
      ]
    },
    {
      "cell_type": "code",
      "execution_count": null,
      "metadata": {
        "id": "ccX4SPGSnqqN"
      },
      "outputs": [],
      "source": [
        "%cd /content/datasets\n",
        "!yolo task=detect mode=predict model=/content/datasets/runs/detect/train/weights/best.pt conf=0.1 source=/content/datasets/To_YOLO-3/test/images save=True"
      ]
    },
    {
      "cell_type": "code",
      "execution_count": null,
      "metadata": {
        "id": "nTqhVphNnuXh"
      },
      "outputs": [],
      "source": [
        "#display inference on ALL test images\n",
        "\n",
        "import glob\n",
        "from IPython.display import Image, display\n",
        "\n",
        "i = 0\n",
        "limit = 10000 # max images to print\n",
        "for imageName in glob.glob('/content/datasets/runs/detect/predict/*.jpg'): #assuming JPG\n",
        "    if i < limit:\n",
        "      display(Image(filename=imageName))\n",
        "      print(\"\\n\")\n",
        "    i = i + 1"
      ]
    },
    {
      "cell_type": "code",
      "execution_count": null,
      "metadata": {
        "id": "RcapkYXhn2VG"
      },
      "outputs": [],
      "source": [
        "%cd /content/datasets\n",
        "\n",
        "!yolo task=detect mode=val model=/content/datasets/runs/detect/train/weights/best.pt data=/content/datasets/To_YOLO-3/data.yaml"
      ]
    }
  ],
  "metadata": {
    "accelerator": "GPU",
    "colab": {
      "machine_shape": "hm",
      "provenance": [],
      "gpuType": "T4",
      "authorship_tag": "ABX9TyNdZTf52SH3vxyCQmMc562d",
      "include_colab_link": true
    },
    "kernelspec": {
      "display_name": "Python 3",
      "name": "python3"
    },
    "language_info": {
      "name": "python"
    }
  },
  "nbformat": 4,
  "nbformat_minor": 0
}