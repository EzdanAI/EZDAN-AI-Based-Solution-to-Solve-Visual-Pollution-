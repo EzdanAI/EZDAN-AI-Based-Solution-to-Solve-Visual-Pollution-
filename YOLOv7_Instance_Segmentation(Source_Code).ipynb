{
  "cells": [
    {
      "cell_type": "markdown",
      "metadata": {
        "id": "view-in-github",
        "colab_type": "text"
      },
      "source": [
        "<a href=\"https://colab.research.google.com/github/EzdanAI/EZDAN-AI-Based-Solution-to-Solve-Visual-Pollution-/blob/main/YOLOv7_Instance_Segmentation(Source_Code).ipynb\" target=\"_parent\"><img src=\"https://colab.research.google.com/assets/colab-badge.svg\" alt=\"Open In Colab\"/></a>"
      ]
    },
    {
      "cell_type": "code",
      "execution_count": null,
      "metadata": {
        "id": "byayC5qQ3N3N"
      },
      "outputs": [],
      "source": [
        "!nvidia-smi"
      ]
    },
    {
      "cell_type": "code",
      "execution_count": null,
      "metadata": {
        "id": "L6NGJmLp7NtV"
      },
      "outputs": [],
      "source": [
        "import os\n",
        "HOME = os.getcwd()\n",
        "print(HOME)"
      ]
    },
    {
      "cell_type": "code",
      "execution_count": null,
      "metadata": {
        "id": "TF0ygDPb7Nf1"
      },
      "outputs": [],
      "source": [
        "# clone YOLOv7 repository\n",
        "%cd {HOME}\n",
        "!git clone https://github.com/WongKinYiu/yolov7\n",
        "\n",
        "# navigate to yolov7 directory and checkout u7 branch of YOLOv7 - this is hash of lates commit from u7 branch as of 12/21/2022\n",
        "%cd {HOME}/yolov7\n",
        "!git checkout 44f30af0daccb1a3baecc5d80eae22948516c579"
      ]
    },
    {
      "cell_type": "code",
      "execution_count": null,
      "metadata": {
        "id": "3pyaZqHt7Ndb"
      },
      "outputs": [],
      "source": [
        "%cd {HOME}/yolov7/seg\n",
        "!pip install --upgrade pip\n",
        "!pip install -r requirements.txt"
      ]
    },
    {
      "cell_type": "code",
      "execution_count": null,
      "metadata": {
        "id": "Dv1jyl1p7Na1"
      },
      "outputs": [],
      "source": [
        "%cd {HOME}/yolov7/seg\n",
        "\n",
        "!pip install roboflow\n",
        "\n",
        "from roboflow import Roboflow\n",
        "rf = Roboflow(api_key=\"API\")\n",
        "project = rf.workspace(\"WORKSPACE\").project(\"PROJECT\")\n",
        "dataset = project.version(\"VERSION\").download(\"yolov7\")"
      ]
    },
    {
      "cell_type": "code",
      "execution_count": null,
      "metadata": {
        "id": "bMfnukxt7NYN"
      },
      "outputs": [],
      "source": [
        "%cd {HOME}/yolov7/seg\n",
        "!python segment/train.py --batch 16 \\\n",
        " --epochs 100 \\\n",
        " --data {dataset.location}/data.yaml \\\n",
        " --device 0 \\\n",
        " --name custom"
      ]
    },
    {
      "cell_type": "code",
      "execution_count": null,
      "metadata": {
        "id": "IDlsnSoN7NV2"
      },
      "outputs": [],
      "source": [
        "from IPython.display import Image, display\n",
        "\n",
        "display(Image(filename=f\"{HOME}/yolov7/seg/runs/train-seg/custom/val_batch0_labels.jpg\"))"
      ]
    },
    {
      "cell_type": "code",
      "execution_count": null,
      "metadata": {
        "id": "qsn0-X0w7NTq"
      },
      "outputs": [],
      "source": [
        "%cd {HOME}/yolov7/seg\n",
        "!python segment/predict.py \\\n",
        "--weights {HOME}/yolov7/seg/runs/train-seg/custom/weights/best.pt \\\n",
        "--conf 0.25 \\\n",
        "--source {dataset.location}/test/images"
      ]
    },
    {
      "cell_type": "code",
      "execution_count": null,
      "metadata": {
        "colab": {
          "background_save": true
        },
        "id": "U6oL_Caa7NRN"
      },
      "outputs": [],
      "source": [
        "import glob\n",
        "from IPython.display import Image, display\n",
        "\n",
        "for imageName in glob.glob('/content/yolov7/seg/runs/predict-seg/exp/*.jpg'):\n",
        "      display(Image(filename=imageName))\n",
        "      print(\"\\n\")"
      ]
    }
  ],
  "metadata": {
    "accelerator": "GPU",
    "colab": {
      "machine_shape": "hm",
      "provenance": [],
      "include_colab_link": true
    },
    "kernelspec": {
      "display_name": "Python 3",
      "name": "python3"
    },
    "language_info": {
      "name": "python"
    }
  },
  "nbformat": 4,
  "nbformat_minor": 0
}